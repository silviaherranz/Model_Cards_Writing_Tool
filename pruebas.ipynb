{
 "cells": [
  {
   "cell_type": "code",
   "execution_count": 2,
   "id": "49a23286",
   "metadata": {},
   "outputs": [],
   "source": [
    "import json\n",
    "import streamlit as st"
   ]
  },
  {
   "cell_type": "code",
   "execution_count": 4,
   "id": "5022d54a",
   "metadata": {},
   "outputs": [],
   "source": [
    "with open(\"model_card_schema.json\", \"r\") as f:\n",
    "    model_card_schema = json.load(f)"
   ]
  },
  {
   "cell_type": "code",
   "execution_count": 7,
   "id": "209be85b",
   "metadata": {},
   "outputs": [
    {
     "name": "stdout",
     "output_type": "stream",
     "text": [
      "card_metadata\n",
      "model_basic_information\n",
      "technical_specifications\n",
      "learning_architecture\n",
      "hw_and_sw\n",
      "training_data_methodology_results_commisioning\n",
      "evaluation_data_methodology_results_commisioning\n",
      "other_considerations\n"
     ]
    }
   ],
   "source": [
    "for key in model_card_schema:\n",
    "    print(key)"
   ]
  },
  {
   "cell_type": "code",
   "execution_count": 9,
   "id": "a28aa230",
   "metadata": {},
   "outputs": [
    {
     "name": "stdout",
     "output_type": "stream",
     "text": [
      "creation_date\n",
      "version_number\n",
      "version_changes\n",
      "doi\n"
     ]
    }
   ],
   "source": [
    "for key in model_card_schema[\"card_metadata\"]:\n",
    "    print(key)"
   ]
  }
 ],
 "metadata": {
  "kernelspec": {
   "display_name": "streamlit",
   "language": "python",
   "name": "python3"
  },
  "language_info": {
   "codemirror_mode": {
    "name": "ipython",
    "version": 3
   },
   "file_extension": ".py",
   "mimetype": "text/x-python",
   "name": "python",
   "nbconvert_exporter": "python",
   "pygments_lexer": "ipython3",
   "version": "3.11.13"
  }
 },
 "nbformat": 4,
 "nbformat_minor": 5
}
